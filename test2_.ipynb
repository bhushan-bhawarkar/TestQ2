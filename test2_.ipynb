{
  "nbformat": 4,
  "nbformat_minor": 0,
  "metadata": {
    "colab": {
      "provenance": []
    },
    "kernelspec": {
      "name": "python3",
      "display_name": "Python 3"
    },
    "language_info": {
      "name": "python"
    }
  },
  "cells": [
    {
      "cell_type": "code",
      "source": [
        "def uniqcharector(s):\n",
        "    char_count = {}\n",
        "    for char in s:\n",
        "        char_count[char] = char_count.get(char, 0) + 1\n",
        "    for i in range(len(s)):\n",
        "        if char_count[s[i]] == 1:\n",
        "            return i\n",
        "\n",
        "    return -1\n",
        "s = \"leetcode\"\n",
        "print(uniqcharector(s))\n"
      ],
      "metadata": {
        "colab": {
          "base_uri": "https://localhost:8080/"
        },
        "id": "Gj8Q6hASXr-W",
        "outputId": "b7ba98d0-41b3-4d76-ccfd-fa1dabbf30ff"
      },
      "execution_count": 2,
      "outputs": [
        {
          "output_type": "stream",
          "name": "stdout",
          "text": [
            "0\n"
          ]
        }
      ]
    },
    {
      "cell_type": "code",
      "source": [],
      "metadata": {
        "id": "WuNObxETYKuU"
      },
      "execution_count": null,
      "outputs": []
    }
  ]
}